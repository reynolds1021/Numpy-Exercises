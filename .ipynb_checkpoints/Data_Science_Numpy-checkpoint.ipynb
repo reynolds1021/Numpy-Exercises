{
 "cells": [
  {
   "cell_type": "markdown",
   "metadata": {},
   "source": [
    "# Data Science Numpy"
   ]
  },
  {
   "cell_type": "markdown",
   "metadata": {},
   "source": [
    "## Tasks Today:\n",
    "\n",
    "1) <b>Numpy</b> <br>\n",
    " &nbsp;&nbsp;&nbsp;&nbsp; a) Python List Comparison <br>\n",
    " &nbsp;&nbsp;&nbsp;&nbsp; b) In-Class Exercise #1 <br>\n",
    " &nbsp;&nbsp;&nbsp;&nbsp; c) Importing <br>\n",
    " &nbsp;&nbsp;&nbsp;&nbsp; d) Creating an NDArray <br>\n",
    " &nbsp;&nbsp;&nbsp;&nbsp;&nbsp;&nbsp;&nbsp;&nbsp; - np.array() <br>\n",
    " &nbsp;&nbsp;&nbsp;&nbsp;&nbsp;&nbsp;&nbsp;&nbsp; - np.zeros() <br>\n",
    " &nbsp;&nbsp;&nbsp;&nbsp;&nbsp;&nbsp;&nbsp;&nbsp; - np.ones() <br>\n",
    " &nbsp;&nbsp;&nbsp;&nbsp;&nbsp;&nbsp;&nbsp;&nbsp; - np.arange() <br>\n",
    " &nbsp;&nbsp;&nbsp;&nbsp;&nbsp;&nbsp;&nbsp;&nbsp; - Making Lists into NDArrays <br>\n",
    " &nbsp;&nbsp;&nbsp;&nbsp; e) Performing Calculations on NDArrays <br>\n",
    " &nbsp;&nbsp;&nbsp;&nbsp;&nbsp;&nbsp;&nbsp;&nbsp; - Summation <br>\n",
    " &nbsp;&nbsp;&nbsp;&nbsp;&nbsp;&nbsp;&nbsp;&nbsp; - Difference <br>\n",
    " &nbsp;&nbsp;&nbsp;&nbsp;&nbsp;&nbsp;&nbsp;&nbsp; - Multiplication <br>\n",
    " &nbsp;&nbsp;&nbsp;&nbsp;&nbsp;&nbsp;&nbsp;&nbsp; - Division <br>\n",
    " &nbsp;&nbsp;&nbsp;&nbsp; f) Numpy Subsetting <br>\n",
    " &nbsp;&nbsp;&nbsp;&nbsp; g) Multi-dimensional Arrays <br>\n",
    " &nbsp;&nbsp;&nbsp;&nbsp; h) Indexing NDArrays <br>\n",
    " &nbsp;&nbsp;&nbsp;&nbsp; i) Checking NDArray Type <br>\n",
    " &nbsp;&nbsp;&nbsp;&nbsp; j) Altering NDArray Type <br>\n",
    " &nbsp;&nbsp;&nbsp;&nbsp; k) Checking the Shape <br>\n",
    " &nbsp;&nbsp;&nbsp;&nbsp; l) Altering the Shape <br>\n",
    " &nbsp;&nbsp;&nbsp;&nbsp; m) In-Class Exercise #2 <br>\n",
    " &nbsp;&nbsp;&nbsp;&nbsp; n) Complex Indexing & Assigning <br>\n",
    " &nbsp;&nbsp;&nbsp;&nbsp; o) Elementwise Multplication <br>\n",
    " &nbsp;&nbsp;&nbsp;&nbsp; p) np.where() <br>\n",
    " &nbsp;&nbsp;&nbsp;&nbsp; q) Random Sampling <br>\n",
    "\n",
    "2) <b>Working With CSV's</b> <br>\n",
    " &nbsp;&nbsp;&nbsp;&nbsp; a) Imports <br>\n",
    " &nbsp;&nbsp;&nbsp;&nbsp; b) Reading a CSV <br>\n",
    " &nbsp;&nbsp;&nbsp;&nbsp; c) Loading a CSV's Data <br>\n",
    " &nbsp;&nbsp;&nbsp;&nbsp; d) Checking Number of Records <br>\n",
    " \n",
    "3) <b>Exercises</b> <br>\n",
    " &nbsp;&nbsp;&nbsp;&nbsp; a) #1 - Calculate BMI with NDArrays <br>\n",
    " &nbsp;&nbsp;&nbsp;&nbsp; c) #2 - Random Matrix Function <br>\n",
    " &nbsp;&nbsp;&nbsp;&nbsp; d) #3 - Comparing Boston Red Sox Hitting Numbers <br>"
   ]
  },
  {
   "cell_type": "markdown",
   "metadata": {},
   "source": [
    "## Numpy <br>\n",
    "\n",
    "<p>NumPy is a library for the Python programming language, adding support for large, multi-dimensional arrays and matrices, along with a large collection of high-level mathematical functions to operate on these arrays.</p>\n",
    "<ul>\n",
    "    <li>Shape = Rows & Columns</li>\n",
    "    <li>Matrix = Entire Array</li>\n",
    "    <li>Vector = Variables to be applied (same vector as the one used in physics)</li>\n",
    "    <li>Array = Similar to lists</li>\n",
    "</ul>"
   ]
  },
  {
   "cell_type": "markdown",
   "metadata": {},
   "source": [
    "#### Python List Comparison"
   ]
  },
  {
   "cell_type": "markdown",
   "metadata": {},
   "source": [
    "<p>Lists are flexible, dynamic python objects that do their job quite well. But they do not support some mathematical operations in an intuitive way. Consider the summation of two lists, $l_1$ and $l_2$</p>"
   ]
  },
  {
   "cell_type": "code",
   "execution_count": null,
   "metadata": {},
   "outputs": [],
   "source": [
    "# create two lists and sum both of them together (results may not be what you expect)\n"
   ]
  },
  {
   "cell_type": "markdown",
   "metadata": {},
   "source": [
    "<p>If we wanted to sum lists elementwise, we could write our own function that does the job entirely within the framework of python</p>"
   ]
  },
  {
   "cell_type": "markdown",
   "metadata": {},
   "source": [
    "#### In-Class Exercise #1 - Write a function that sums the indexes of two lists <br>\n",
    "<p>Ex: [2, 3, 4] + [1, 5, 2] = [3, 8, 6]</p>"
   ]
  },
  {
   "cell_type": "code",
   "execution_count": null,
   "metadata": {},
   "outputs": [],
   "source": []
  },
  {
   "cell_type": "markdown",
   "metadata": {},
   "source": [
    "We would have to write a similar function for all the possible operands that we could consider for list arithmatic. This is time consuming and inefficient. Moreover, once the lists in question become nested, mimicing the behavior of true matrices, the problem gets worse. Complicated indexing is necessary, just to allow for the most basic matrix operations common throughout science and engineering. Imagine writing a matrix multiplication function using python syntax in a general way, such that it returns a matrix-matrix or matrix-vector product:\n",
    "\n",
    "\\begin{align}\n",
    "(n \\times x) \\times (x \\times m) \\rightarrow (n \\times m)\n",
    "\\end{align}\n",
    "\n",
    "\\begin{align}\n",
    "\\begin{bmatrix}\n",
    "c_{0,0} & ... & c_{0,n} \\\\\n",
    "\\vdots & \\ddots & \\vdots \\\\\n",
    "c_{m,0} & ... & c_{m,n}\n",
    "\\end{bmatrix}\n",
    "=\n",
    "\\begin{bmatrix}\n",
    "a_{0,0} & ... & a_{0,x} \\\\\n",
    "\\vdots & \\ddots & \\vdots \\\\\n",
    "a_{n,0} & ... & a_{n,x}\n",
    "\\end{bmatrix}\n",
    "\\begin{bmatrix}\n",
    "b_{0,0} & ... & b_{0,m} \\\\\n",
    "\\vdots & \\ddots & \\vdots \\\\\n",
    "b_{x,0} & ... & b_{x,m}\n",
    "\\end{bmatrix}\n",
    "\\end{align}\n",
    "\n",
    "\n",
    "---\n",
    "\n",
    "The \"Dot Product\" is where we multiply matching members, then sum up:\n",
    "\n",
    "(1, 2, 3) • (7, 9, 11) = 1×7 + 2×9 + 3×11\n",
    "    = 58\n",
    "\n",
    "We match the 1st members (1 and 7), multiply them, likewise for the 2nd members (2 and 9) and the 3rd members (3 and 11), and finally sum them up.\n",
    "\n",
    "<hr>\n",
    "\n",
    "So, let's instantiate a matrix $\\mathcal{M}$ and a vector $\\vec{v}$ and write a function that does the multiplication ourselves."
   ]
  },
  {
   "cell_type": "code",
   "execution_count": null,
   "metadata": {},
   "outputs": [],
   "source": []
  },
  {
   "cell_type": "markdown",
   "metadata": {},
   "source": [
    "#### Importing"
   ]
  },
  {
   "cell_type": "code",
   "execution_count": null,
   "metadata": {},
   "outputs": [],
   "source": [
    "# always import as np, standard across all of data science\n",
    "import numpy as np"
   ]
  },
  {
   "cell_type": "markdown",
   "metadata": {},
   "source": [
    "#### Creating an NDArray <br>\n",
    "<p>NumPy is based around a class called the $\\textit{NDArray}$, which is a flexible vector / matrix class that implements the intuitive matrix and vector arithmatic lacking in basic Python. Let's start by creating some NDArrays:</p>"
   ]
  },
  {
   "cell_type": "markdown",
   "metadata": {},
   "source": [
    "###### - np.array()"
   ]
  },
  {
   "cell_type": "code",
   "execution_count": null,
   "metadata": {},
   "outputs": [],
   "source": []
  },
  {
   "cell_type": "markdown",
   "metadata": {},
   "source": [
    "###### - np.zeros()"
   ]
  },
  {
   "cell_type": "code",
   "execution_count": null,
   "metadata": {},
   "outputs": [],
   "source": [
    "# Shape -- np.zeros() has a parameter of \"shape\" that must be given\n"
   ]
  },
  {
   "cell_type": "markdown",
   "metadata": {},
   "source": [
    "###### - np.ones()"
   ]
  },
  {
   "cell_type": "code",
   "execution_count": null,
   "metadata": {},
   "outputs": [],
   "source": [
    "\n",
    "\n",
    "\n",
    "# notice no dots after the numbers, because we specified the datatype to be integer"
   ]
  },
  {
   "cell_type": "markdown",
   "metadata": {},
   "source": [
    "###### - np.arange()"
   ]
  },
  {
   "cell_type": "code",
   "execution_count": null,
   "metadata": {},
   "outputs": [],
   "source": []
  },
  {
   "cell_type": "markdown",
   "metadata": {},
   "source": [
    "###### - Making Lists into NDArrays"
   ]
  },
  {
   "cell_type": "code",
   "execution_count": null,
   "metadata": {},
   "outputs": [],
   "source": []
  },
  {
   "cell_type": "markdown",
   "metadata": {},
   "source": [
    "#### Performing Calculations on NDArrays"
   ]
  },
  {
   "cell_type": "markdown",
   "metadata": {},
   "source": [
    "###### - Summation"
   ]
  },
  {
   "cell_type": "code",
   "execution_count": null,
   "metadata": {
    "scrolled": true
   },
   "outputs": [],
   "source": []
  },
  {
   "cell_type": "markdown",
   "metadata": {},
   "source": [
    "###### - Difference"
   ]
  },
  {
   "cell_type": "code",
   "execution_count": null,
   "metadata": {},
   "outputs": [],
   "source": []
  },
  {
   "cell_type": "markdown",
   "metadata": {},
   "source": [
    "###### - Multiplication"
   ]
  },
  {
   "cell_type": "code",
   "execution_count": null,
   "metadata": {},
   "outputs": [],
   "source": []
  },
  {
   "cell_type": "markdown",
   "metadata": {},
   "source": [
    "###### - Division"
   ]
  },
  {
   "cell_type": "code",
   "execution_count": null,
   "metadata": {},
   "outputs": [],
   "source": []
  },
  {
   "cell_type": "code",
   "execution_count": null,
   "metadata": {},
   "outputs": [],
   "source": [
    "# Modulo\n"
   ]
  },
  {
   "cell_type": "code",
   "execution_count": null,
   "metadata": {},
   "outputs": [],
   "source": [
    "# Floor Division\n"
   ]
  },
  {
   "cell_type": "markdown",
   "metadata": {},
   "source": [
    "#### Numpy Subsetting"
   ]
  },
  {
   "cell_type": "code",
   "execution_count": null,
   "metadata": {},
   "outputs": [],
   "source": [
    "# result3 <= 800\n",
    "\n",
    "\n",
    "# conditioal check, returns true or false\n",
    "# print(arr1 < 2)\n",
    "# print(arr2 >= 2)\n",
    "\n",
    "# conditional check, that returns the elements that meet the given condition\n"
   ]
  },
  {
   "cell_type": "markdown",
   "metadata": {},
   "source": [
    "#### Multi-dimensional Arrays <br>\n",
    "<p>NumPy seamlessly supports multidimensional arrays and matrices of arbitrary dimension without nesting NDArrays. NDArrays themselves are flexible and extensible and may be defined with such dimensions, with a rich API of common functions to facilitate their use. Let's start by building a two dimensional 3x3 matrix by conversion from a nested group of core python lists $M = [l_0, l_1, l_2]$:</p>"
   ]
  },
  {
   "cell_type": "code",
   "execution_count": null,
   "metadata": {},
   "outputs": [],
   "source": []
  },
  {
   "cell_type": "markdown",
   "metadata": {},
   "source": [
    "#### Indexing NDArrays <br>\n",
    "<p> Similar to lists within lists; however, the syntax looks more like C programming language.... It is [1, 2] to access the second row, third element.</p>"
   ]
  },
  {
   "cell_type": "code",
   "execution_count": null,
   "metadata": {},
   "outputs": [],
   "source": []
  },
  {
   "cell_type": "markdown",
   "metadata": {},
   "source": [
    "#### Assigning Values in NDArrays"
   ]
  },
  {
   "cell_type": "code",
   "execution_count": null,
   "metadata": {},
   "outputs": [],
   "source": []
  },
  {
   "cell_type": "markdown",
   "metadata": {},
   "source": [
    "<p>Notice above how we ended up with a 1 in the target element's place. This is a data type issue. The .dtype() method is supported by all NDArrays, as well as the .astype() method for casting between data types:</p>"
   ]
  },
  {
   "cell_type": "markdown",
   "metadata": {},
   "source": [
    "#### Checking NDArray Type"
   ]
  },
  {
   "cell_type": "code",
   "execution_count": null,
   "metadata": {},
   "outputs": [],
   "source": []
  },
  {
   "cell_type": "markdown",
   "metadata": {},
   "source": [
    "#### Altering NDArray Type"
   ]
  },
  {
   "cell_type": "code",
   "execution_count": null,
   "metadata": {},
   "outputs": [],
   "source": []
  },
  {
   "cell_type": "code",
   "execution_count": null,
   "metadata": {},
   "outputs": [],
   "source": []
  },
  {
   "cell_type": "markdown",
   "metadata": {},
   "source": [
    "#### Checking the Shape <br>\n",
    "<p>The behavior and properties of an NDArray are often sensitively dependent on the $\\textit{shape}$ of the NDArray itself. The shape of an array can be found by calling the .shape method, which will return a tuple containing the array's dimensions:</p>"
   ]
  },
  {
   "cell_type": "code",
   "execution_count": null,
   "metadata": {},
   "outputs": [],
   "source": [
    " # shape is always rows x columns\n"
   ]
  },
  {
   "cell_type": "markdown",
   "metadata": {},
   "source": [
    "#### Altering the Shape <br>\n",
    "<p>As long as the number of elements remains fixed, we can reshape NDArrays at will:</p>"
   ]
  },
  {
   "cell_type": "code",
   "execution_count": null,
   "metadata": {},
   "outputs": [],
   "source": []
  },
  {
   "cell_type": "code",
   "execution_count": null,
   "metadata": {},
   "outputs": [],
   "source": [
    "# keep in mind that the shape numbers do matter, (9, 1) is different than (1, 9)\n"
   ]
  },
  {
   "cell_type": "markdown",
   "metadata": {},
   "source": [
    "#### In-Class Exercise #2 - Create a matrix of range 0 up to 16 and reshape it into a 4x4 matrice"
   ]
  },
  {
   "cell_type": "code",
   "execution_count": null,
   "metadata": {},
   "outputs": [],
   "source": []
  },
  {
   "cell_type": "markdown",
   "metadata": {},
   "source": [
    "#### Complex Indexing & Assinging"
   ]
  },
  {
   "cell_type": "code",
   "execution_count": null,
   "metadata": {},
   "outputs": [],
   "source": []
  },
  {
   "cell_type": "markdown",
   "metadata": {},
   "source": [
    "#### Elementwise Multiplication"
   ]
  },
  {
   "cell_type": "markdown",
   "metadata": {},
   "source": [
    "<p>As long as the shapes of NDArrays are 'compatible', they can be multiplied elementwise, broadcasted, used in inner products, and much much more. 'Compatible' in this context can mean compatible in the linear algebraic sense, i.e. for inner products and other matrix multiplication, or simply sharing a dimension in such a manner that broadcasting 'makes sense'. Here are some examples of this:</p>"
   ]
  },
  {
   "cell_type": "code",
   "execution_count": null,
   "metadata": {},
   "outputs": [],
   "source": []
  },
  {
   "cell_type": "markdown",
   "metadata": {},
   "source": [
    "#### np.where() <br>\n",
    "<p>If statement within NDArrays that allows you to run conditionals on the entire array</p>"
   ]
  },
  {
   "cell_type": "code",
   "execution_count": null,
   "metadata": {},
   "outputs": [],
   "source": []
  },
  {
   "cell_type": "markdown",
   "metadata": {},
   "source": [
    "#### Random Sampling <br>\n",
    "<p>NumPy provides machinery to work with random numbers - something often needed in a broad spectrum of data science applications.</p>"
   ]
  },
  {
   "cell_type": "code",
   "execution_count": null,
   "metadata": {},
   "outputs": [],
   "source": [
    "# np.random.uniform()\n",
    "\n",
    "# A single call generates a single random number between 0 and 1\n",
    "\n",
    "print('Here is a random number: %s' % np.random.uniform())\n",
    "\n",
    "# You can also pass some parameters or bounds\n",
    "\n",
    "print('Here is a random number between 0 and 1 Million: %s' % np.random.uniform(0, 1e6))\n",
    "\n",
    "# You can also generate a bunch of random numbers all at once\n",
    "\n",
    "print('Here are 5 random numbers between 0 and 10: %s' % np.random.uniform(0, 10, 5))\n",
    "\n",
    "# Even matrices with shapes as a parameter\n",
    "\n",
    "print('Here is a 3x3 matrix with numbers between 0 and 10: \\n %s' % np.random.uniform(0, 10, (3, 3)))"
   ]
  },
  {
   "cell_type": "markdown",
   "metadata": {},
   "source": [
    "## Working With CSV's"
   ]
  },
  {
   "cell_type": "markdown",
   "metadata": {},
   "source": [
    "#### Imports"
   ]
  },
  {
   "cell_type": "code",
   "execution_count": null,
   "metadata": {},
   "outputs": [],
   "source": [
    "import csv\n",
    "import numpy as np\n",
    "from datetime import datetime"
   ]
  },
  {
   "cell_type": "markdown",
   "metadata": {},
   "source": [
    "#### Loading a CSV's Data "
   ]
  },
  {
   "cell_type": "code",
   "execution_count": null,
   "metadata": {},
   "outputs": [],
   "source": [
    "FIELDS = ['Rk', 'Pos', 'Name', 'Age', 'G', 'PA', 'AB', 'R', 'H', '2B', '3B', 'HR', 'RBI', 'SB', 'CS', \n",
    "          'BB', 'SO', 'BA', 'OBP', 'SLG', 'OPS', 'OPS+', 'TB', 'GDP', 'HBP', 'SH', 'SF', 'IBB']\n",
    "\n",
    "DATATYPES = [('rk', 'i'), ('pos', '|S25'), ('name', '|S25'), ('age', 'i'), ('g', 'i'), ('pa', 'i'), ('ab', 'i'),\n",
    "                ('r', 'i'), ('h', 'i'), ('2b', 'i'), ('3b', 'i'), ('hr', 'i'), ('rbi', 'i'), ('sb', 'i'), ('cs', 'i'),\n",
    "                ('bb', 'i'), ('so', 'i'), ('ba', 'f'), ('obp', 'f'), ('slg', 'f'), ('ops', 'f'), ('opsp', 'i'),\n",
    "                ('tb', 'i'), ('gdp', 'i'), ('hbp', 'i'), ('sh', 'i'), ('sf', 'i'), ('ibb', 'i')]\n",
    "\n",
    "\n",
    "    # instead of loading csv normally, let's load it into a numpy array to calculate results on\n",
    "    \n",
    "\n",
    "\n"
   ]
  },
  {
   "cell_type": "markdown",
   "metadata": {},
   "source": [
    "#### Summing the top 5 hitters for HR's"
   ]
  },
  {
   "cell_type": "code",
   "execution_count": null,
   "metadata": {},
   "outputs": [],
   "source": [
    "# find the top 5 hr hitters\n",
    "\n",
    "# print(hr)"
   ]
  },
  {
   "cell_type": "markdown",
   "metadata": {
    "collapsed": true
   },
   "source": [
    "# Exercises To Complete.... <br>\n",
    "<p>Given in separate file after completion of this file</p>"
   ]
  }
 ],
 "metadata": {
  "kernelspec": {
   "display_name": "Python 3",
   "language": "python",
   "name": "python3"
  },
  "language_info": {
   "codemirror_mode": {
    "name": "ipython",
    "version": 3
   },
   "file_extension": ".py",
   "mimetype": "text/x-python",
   "name": "python",
   "nbconvert_exporter": "python",
   "pygments_lexer": "ipython3",
   "version": "3.8.3"
  }
 },
 "nbformat": 4,
 "nbformat_minor": 2
}
