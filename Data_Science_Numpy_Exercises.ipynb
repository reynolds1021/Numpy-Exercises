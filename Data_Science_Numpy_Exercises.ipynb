{
 "cells": [
  {
   "cell_type": "markdown",
   "metadata": {},
   "source": [
    "# Exercises"
   ]
  },
  {
   "cell_type": "markdown",
   "metadata": {},
   "source": [
    "### #1 - Calculate the BMI (body mass index) on the two lists below using NDArrays..."
   ]
  },
  {
   "cell_type": "code",
   "execution_count": 4,
   "metadata": {},
   "outputs": [
    {
     "data": {
      "text/plain": [
       "array([3.16498491e-05, 3.35476656e-05, 3.53267589e-05, 3.69947573e-05,\n",
       "       3.85587262e-05, 4.00252159e-05, 4.14003044e-05])"
      ]
     },
     "execution_count": 4,
     "metadata": {},
     "output_type": "execute_result"
    }
   ],
   "source": [
    "import numpy as np\n",
    "# formula = weight / (height**2) * 730\n",
    "height = [69, 70, 71, 72, 73, 74, 75]\n",
    "weight = [110, 120, 130, 140, 150, 160, 170]\n",
    "h = np.array(height)\n",
    "w = np.array(weight)\n",
    "bmi = w /(730*h**2)\n",
    "bmi\n"
   ]
  },
  {
   "cell_type": "code",
   "execution_count": null,
   "metadata": {},
   "outputs": [],
   "source": []
  },
  {
   "cell_type": "markdown",
   "metadata": {},
   "source": [
    "### #2 - Create a function that will take in two parameters and will create a random matrix based on those parameters. Extra: Have additional parameters taken in that allow the user to choose the shape and data type of the matrix."
   ]
  },
  {
   "cell_type": "code",
   "execution_count": 97,
   "metadata": {},
   "outputs": [],
   "source": [
    "# Example makeMatrix(param1,param2) -- Extra params can be added here as well\n",
    "import numpy as np\n",
    "from numpy import random\n",
    "\n",
    "def makeMatrix(low,high,shape,data_type):\n",
    "    m1 = np.random.randint(low,high,shape)\n",
    "    rand_mat = m1.astype(data_type)\n",
    "    \n",
    "    return rand_mat\n",
    "   \n",
    "   \n",
    "        \n",
    "    \n",
    "    \n"
   ]
  },
  {
   "cell_type": "code",
   "execution_count": 207,
   "metadata": {},
   "outputs": [
    {
     "data": {
      "text/plain": [
       "array([['0', '1'],\n",
       "       ['2', '1']], dtype='<U21')"
      ]
     },
     "execution_count": 207,
     "metadata": {},
     "output_type": "execute_result"
    }
   ],
   "source": [
    "makeMatrix(0,3, (2,2), data_type=str)"
   ]
  },
  {
   "cell_type": "markdown",
   "metadata": {},
   "source": [
    "### #3 - Extra: Open and load the data in the two text files that have the Boston Red Sox hitting data for the past seasons. Compare the difference in the two years by putting the data into an NDArray and perform a differential operation on it. The column to look for will be SLG.\n",
    "\n",
    "Your output should display which year (either 2017 or 2018) was a better year based on SLG"
   ]
  },
  {
   "cell_type": "code",
   "execution_count": 130,
   "metadata": {},
   "outputs": [],
   "source": [
    "import csv\n",
    "import numpy as np"
   ]
  },
  {
   "cell_type": "code",
   "execution_count": 223,
   "metadata": {},
   "outputs": [],
   "source": [
    "FIELDS = ['Rk', 'Pos', 'Name', 'Age', 'G', 'PA', 'AB', 'R', 'H', '2B', '3B', 'HR', 'RBI', 'SB', 'CS', \n",
    "          'BB', 'SO', 'BA', 'OBP', 'SLG', 'OPS', 'OPS+', 'TB', 'GDP', 'HBP', 'SH', 'SF', 'IBB']\n",
    "\n",
    "DATATYPES = [('rk', 'i'), ('pos', '|S25'), ('name', '|S25'), ('age', 'i'), ('g', 'i'), ('pa', 'i'), ('ab', 'i'),\n",
    "                ('r', 'i'), ('h', 'i'), ('2b', 'i'), ('3b', 'i'), ('hr', 'i'), ('rbi', 'i'), ('sb', 'i'), ('cs', 'i'),\n",
    "                ('bb', 'i'), ('so', 'i'), ('ba', 'f'), ('obp', 'f'), ('slg', 'f'), ('ops', 'f'), ('opsp', 'i'),\n",
    "                ('tb', 'i'), ('gdp', 'i'), ('hbp', 'i'), ('sh', 'i'), ('sf', 'i'), ('ibb', 'i')]\n",
    "\n",
    "#Use this function to actually open the data inside of a NDArray\n",
    "\n",
    "def load_data(filename, d=','):\n",
    "    hitting_data = np.genfromtxt(filename, delimiter=d)\n",
    "    return hitting_data\n",
    "    \n",
    "\n",
    "def betterYear(cat): \n",
    "    \n",
    "    F = np.array(FIELDS) #Initializing the arrays\n",
    "    DT = np.array(DATATYPES)\n",
    "    hitting_17 = load_data('redsox_2017_hitting.txt', d=',')\n",
    "    hitting_18 = load_data('redsox_2018_hitting.txt', d=',')\n",
    "    \n",
    "    ind = np.where(F == cat) #Determine the index of the user-specified category\n",
    "    \n",
    "    cat_17 = hitting_17[:,ind]\n",
    "    cat_18 = hitting_18[:,ind]\n",
    "                   \n",
    "    #Calculate the category average for each year to determine the better year (ignore NaN)\n",
    "    cat_17_avg = np.nanmean(cat_17)\n",
    "    cat_18_avg = np.nanmean(cat_18)\n",
    "    \n",
    "    if cat_17_avg > cat_18_avg:\n",
    "        print('2017 was the better year in terms of', cat)\n",
    "        \n",
    "    elif cat_17_avg < cat_18_avg:\n",
    "        print('2018 was the better year in terms of', cat)\n",
    "        \n",
    "    else:\n",
    "        print('Both years were the same in terms of', cat)\n",
    "        \n",
    "     \n",
    "\n"
   ]
  },
  {
   "cell_type": "code",
   "execution_count": 202,
   "metadata": {},
   "outputs": [],
   "source": [
    "hitting_17 = load_data('redsox_2017_hitting.txt', d=',')\n",
    "hitting_18 = load_data('redsox_2018_hitting.txt', d=',')\n",
    "\n",
    "slg_17 = hitting_17[:,19]\n",
    "slg_18 = hitting_18[:,19]\n",
    "\n",
    "s = np.nanmean(slg_17)\n",
    "t = np.nanmean(slg_18)"
   ]
  },
  {
   "cell_type": "code",
   "execution_count": 226,
   "metadata": {},
   "outputs": [
    {
     "name": "stdout",
     "output_type": "stream",
     "text": [
      "2017 was the better year in terms of SLG\n"
     ]
    }
   ],
   "source": [
    "betterYear('SLG')"
   ]
  },
  {
   "cell_type": "code",
   "execution_count": 203,
   "metadata": {},
   "outputs": [
    {
     "data": {
      "text/plain": [
       "0.3875"
      ]
     },
     "execution_count": 203,
     "metadata": {},
     "output_type": "execute_result"
    }
   ],
   "source": [
    "t"
   ]
  },
  {
   "cell_type": "code",
   "execution_count": 221,
   "metadata": {},
   "outputs": [
    {
     "data": {
      "text/plain": [
       "0.39334782608695656"
      ]
     },
     "execution_count": 221,
     "metadata": {},
     "output_type": "execute_result"
    }
   ],
   "source": [
    "s"
   ]
  },
  {
   "cell_type": "code",
   "execution_count": 216,
   "metadata": {},
   "outputs": [],
   "source": [
    "cat = np.where(F == 'SLG')"
   ]
  },
  {
   "cell_type": "code",
   "execution_count": 217,
   "metadata": {},
   "outputs": [
    {
     "data": {
      "text/plain": [
       "(array([19]),)"
      ]
     },
     "execution_count": 217,
     "metadata": {},
     "output_type": "execute_result"
    }
   ],
   "source": [
    "cat"
   ]
  },
  {
   "cell_type": "code",
   "execution_count": null,
   "metadata": {},
   "outputs": [],
   "source": []
  }
 ],
 "metadata": {
  "kernelspec": {
   "display_name": "Python 3",
   "language": "python",
   "name": "python3"
  },
  "language_info": {
   "codemirror_mode": {
    "name": "ipython",
    "version": 3
   },
   "file_extension": ".py",
   "mimetype": "text/x-python",
   "name": "python",
   "nbconvert_exporter": "python",
   "pygments_lexer": "ipython3",
   "version": "3.8.3"
  }
 },
 "nbformat": 4,
 "nbformat_minor": 2
}
